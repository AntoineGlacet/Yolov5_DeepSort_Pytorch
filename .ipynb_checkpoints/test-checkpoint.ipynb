{
 "cells": [
  {
   "cell_type": "code",
   "execution_count": 1,
   "metadata": {
    "ExecuteTime": {
     "end_time": "2021-08-18T14:33:18.368920Z",
     "start_time": "2021-08-18T14:33:15.475188Z"
    }
   },
   "outputs": [],
   "source": [
    "from track import detect"
   ]
  },
  {
   "cell_type": "code",
   "execution_count": 2,
   "metadata": {
    "ExecuteTime": {
     "end_time": "2021-08-18T14:33:18.374897Z",
     "start_time": "2021-08-18T14:33:18.370739Z"
    }
   },
   "outputs": [],
   "source": [
    "# define the arguments of the function as a kwargs dict\n",
    "kwargs = {\n",
    "    \"yolo_weights\": r\"/home/antoine/projects/Yolov5_DeepSort_Pytorch/yolov5/weights/crowdhuman_yolov5m.pt\",\n",
    "    \"deep_sort_weights\": \"deep_sort_pytorch/deep_sort/deep/checkpoint/ckpt.t7\",\n",
    "    \"source\": r\"/home/antoine/projects/Yolov5_DeepSort_Pytorch/data/interim\",\n",
    "    \"output\": \"inference/output\",\n",
    "    \"img_size\": 640,\n",
    "    \"conf_thres\": 0.4,\n",
    "    \"iou_thres\": 0.5,\n",
    "    \"fourcc\": \"mp4\",\n",
    "    \"device\": \"\",\n",
    "    \"show_vid\": False,\n",
    "    \"save_vid\": True,\n",
    "    \"save_txt\": False,\n",
    "    \"classes\": 0,\n",
    "    \"agnostic_nms\": True,\n",
    "    \"augment\": True,\n",
    "    \"evaluate\": True,\n",
    "    \"config_deepsort\": \"deep_sort_pytorch/configs/deep_sort.yaml\",\n",
    "    \"W_line1\": 350,\n",
    "    \"W_line2\": 900,\n",
    "    \"counting_direction\": 1,\n",
    "}\n",
    "\n",
    "# transform them into an instance of a class to be passed to function\n",
    "opt = type(\"option_object\", (object,), kwargs)"
   ]
  },
  {
   "cell_type": "code",
   "execution_count": 3,
   "metadata": {
    "ExecuteTime": {
     "end_time": "2021-08-18T14:33:49.925925Z",
     "start_time": "2021-08-18T14:33:18.376421Z"
    }
   },
   "outputs": [
    {
     "name": "stderr",
     "output_type": "stream",
     "text": [
      "/home/antoine/miniconda3/envs/test_pytorch19/lib/python3.8/site-packages/torch/nn/functional.py:718: UserWarning: Named tensors and all their associated APIs are an experimental feature and subject to change. Please do not use them for anything important until they are released as stable. (Triggered internally at  /opt/conda/conda-bld/pytorch_1623448278899/work/c10/core/TensorImpl.h:1156.)\n",
      "  return torch.max_pool2d(input, kernel_size, stride, padding, dilation, ceil_mode)\n"
     ]
    },
    {
     "name": "stdout",
     "output_type": "stream",
     "text": [
      "progress bar show only progress for videos\n"
     ]
    },
    {
     "name": "stderr",
     "output_type": "stream",
     "text": [
      "processing short_test_vid - Copy.mp4 (file 1/2): 100%|█████████████████████████████████████████████████████████████████████████████████████████████████| 150/150.0 [00:11<00:00, 12.97it/s]\n",
      "processing short_test_vid.mp4 (file 2/2): 151it [00:10, 14.75it/s]                                                                                                                         "
     ]
    },
    {
     "name": "stdout",
     "output_type": "stream",
     "text": [
      "Results saved to /home/antoine/projects/Yolov5_DeepSort_Pytorch/inference/output\n",
      "Done. (21.790s)\n",
      "total Pax= 6\n"
     ]
    },
    {
     "data": {
      "text/plain": [
       "[2, 110, 113, 154, 260, 263]"
      ]
     },
     "execution_count": 3,
     "metadata": {},
     "output_type": "execute_result"
    }
   ],
   "source": [
    "detect(opt)"
   ]
  },
  {
   "cell_type": "code",
   "execution_count": null,
   "metadata": {},
   "outputs": [],
   "source": []
  }
 ],
 "metadata": {
  "hide_input": false,
  "interpreter": {
   "hash": "76f11793ee69eff6a19270df915286e0a1fb23805f6f069cadaef342f8c6f27e"
  },
  "kernelspec": {
   "display_name": "Python [conda env:test_pytorch19]",
   "language": "python",
   "name": "conda-env-test_pytorch19-py"
  },
  "language_info": {
   "codemirror_mode": {
    "name": "ipython",
    "version": 3
   },
   "file_extension": ".py",
   "mimetype": "text/x-python",
   "name": "python",
   "nbconvert_exporter": "python",
   "pygments_lexer": "ipython3",
   "version": "3.8.11"
  },
  "toc": {
   "base_numbering": 1,
   "nav_menu": {},
   "number_sections": true,
   "sideBar": true,
   "skip_h1_title": false,
   "title_cell": "Table of Contents",
   "title_sidebar": "Contents",
   "toc_cell": false,
   "toc_position": {},
   "toc_section_display": true,
   "toc_window_display": false
  },
  "varInspector": {
   "cols": {
    "lenName": 16,
    "lenType": 16,
    "lenVar": 40
   },
   "kernels_config": {
    "python": {
     "delete_cmd_postfix": "",
     "delete_cmd_prefix": "del ",
     "library": "var_list.py",
     "varRefreshCmd": "print(var_dic_list())"
    },
    "r": {
     "delete_cmd_postfix": ") ",
     "delete_cmd_prefix": "rm(",
     "library": "var_list.r",
     "varRefreshCmd": "cat(var_dic_list()) "
    }
   },
   "types_to_exclude": [
    "module",
    "function",
    "builtin_function_or_method",
    "instance",
    "_Feature"
   ],
   "window_display": false
  }
 },
 "nbformat": 4,
 "nbformat_minor": 2
}
