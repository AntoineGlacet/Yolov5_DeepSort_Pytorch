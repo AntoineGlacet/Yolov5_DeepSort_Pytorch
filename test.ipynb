{
 "cells": [
  {
   "cell_type": "code",
   "execution_count": 1,
   "metadata": {
    "ExecuteTime": {
     "end_time": "2021-09-17T02:25:08.266300Z",
     "start_time": "2021-09-17T02:25:08.151503Z"
    }
   },
   "outputs": [],
   "source": [
    "%matplotlib inline"
   ]
  },
  {
   "cell_type": "code",
   "execution_count": 2,
   "metadata": {
    "ExecuteTime": {
     "end_time": "2021-09-17T02:25:10.245880Z",
     "start_time": "2021-09-17T02:25:08.910924Z"
    }
   },
   "outputs": [],
   "source": [
    "from track import detect\n",
    "import cv2\n",
    "import matplotlib.pyplot as plt"
   ]
  },
  {
   "cell_type": "code",
   "execution_count": null,
   "metadata": {
    "ExecuteTime": {
     "end_time": "2021-09-17T02:22:29.217082Z",
     "start_time": "2021-09-17T02:22:29.213112Z"
    }
   },
   "outputs": [],
   "source": [
    "def showFirstFrame(path):\n",
    "    cap = cv2.VideoCapture(path)\n",
    "    success, img = cap.read()\n",
    "    if success:\n",
    "        rgb_img = cv2.cvtColor(img, cv2.COLOR_BGR2RGB) # this converts it into RGB\n",
    "        fig,ax = plt.subplots(figsize=(16,9))\n",
    "        ax.imshow(rgb_img)\n",
    "        plt.show()\n",
    "\n",
    "def showLastFrame(path):\n",
    "    cap = cv2.VideoCapture(path)\n",
    "    last_frame_num = cap.get(cv2.CAP_PROP_FRAME_COUNT)\n",
    "    cap.set(cv2.CAP_PROP_POS_FRAMES, last_frame_num-1)\n",
    "    success, img = cap.read()\n",
    "    if success:\n",
    "        rgb_img = cv2.cvtColor(img, cv2.COLOR_BGR2RGB) # this converts it into RGB\n",
    "        fig,ax = plt.subplots(figsize=(16,9))\n",
    "        ax.imshow(rgb_img)\n",
    "        plt.show()"
   ]
  },
  {
   "cell_type": "code",
   "execution_count": null,
   "metadata": {
    "ExecuteTime": {
     "end_time": "2021-09-17T02:22:29.905686Z",
     "start_time": "2021-09-17T02:22:29.903455Z"
    }
   },
   "outputs": [],
   "source": [
    "# show first and last frames for timestamps\n",
    "# showFirstFrame(path1)\n",
    "# showLastFrame(path2)"
   ]
  },
  {
   "cell_type": "code",
   "execution_count": null,
   "metadata": {
    "ExecuteTime": {
     "end_time": "2021-09-17T02:23:02.128611Z",
     "start_time": "2021-09-17T02:23:01.734842Z"
    }
   },
   "outputs": [],
   "source": [
    "showFirstFrame(r'/home/antoine/projects/Yolov5_DeepSort_Pytorch/data/raw/sep14/check2/TLC00000.AVI')"
   ]
  },
  {
   "cell_type": "code",
   "execution_count": null,
   "metadata": {
    "ExecuteTime": {
     "end_time": "2021-09-09T02:01:44.595081Z",
     "start_time": "2021-09-09T02:01:44.211713Z"
    }
   },
   "outputs": [],
   "source": [
    "showLastFrame('/home/antoine/projects/Yolov5_DeepSort_Pytorch/data/raw/check2/TLC00005.AVI')"
   ]
  },
  {
   "cell_type": "code",
   "execution_count": 3,
   "metadata": {
    "ExecuteTime": {
     "end_time": "2021-09-17T02:25:11.144654Z",
     "start_time": "2021-09-17T02:25:11.141361Z"
    }
   },
   "outputs": [],
   "source": [
    "# define the arguments of the function as a kwargs dict\n",
    "kwargs = {\n",
    "    \"yolo_weights\": r\"/home/antoine/projects/Yolov5_DeepSort_Pytorch/yolov5/weights/crowdhuman_yolov5m.pt\",\n",
    "    \"deep_sort_weights\": \"deep_sort_pytorch/deep_sort/deep/checkpoint/ckpt.t7\",\n",
    "    \"source\": r\"/home/antoine/projects/Yolov5_DeepSort_Pytorch/data/raw/sep14/check2\",\n",
    "    \"output\": r\"data/processed/sep14/check2/\",\n",
    "    \"img_size\": 640,\n",
    "    \"conf_thres\": 0.4,\n",
    "    \"iou_thres\": 0.5,\n",
    "    \"fourcc\": \"mp4\",\n",
    "    \"device\": \"\",\n",
    "    \"show_vid\": False,\n",
    "    \"save_vid\": True,\n",
    "    \"save_txt\": False,\n",
    "    \"classes\": 0,\n",
    "    \"agnostic_nms\": True,\n",
    "    \"augment\": True,\n",
    "    \"evaluate\": True,\n",
    "    \"config_deepsort\": \"deep_sort_pytorch/configs/deep_sort.yaml\",\n",
    "    \"W_line1\": 425,\n",
    "    \"W_line2\": 800,\n",
    "    \"counting_direction\": -1,\n",
    "}\n",
    "\n",
    "# transform them into an instance of a class to be passed to function\n",
    "opt = type(\"option_object\", (object,), kwargs)"
   ]
  },
  {
   "cell_type": "code",
   "execution_count": null,
   "metadata": {
    "ExecuteTime": {
     "start_time": "2021-09-17T02:25:11.694Z"
    },
    "scrolled": true
   },
   "outputs": [
    {
     "name": "stderr",
     "output_type": "stream",
     "text": [
      "/home/antoine/miniconda3/envs/test_pytorch19/lib/python3.8/site-packages/torch/nn/functional.py:718: UserWarning: Named tensors and all their associated APIs are an experimental feature and subject to change. Please do not use them for anything important until they are released as stable. (Triggered internally at  /opt/conda/conda-bld/pytorch_1623448278899/work/c10/core/TensorImpl.h:1156.)\n",
      "  return torch.max_pool2d(input, kernel_size, stride, padding, dilation, ceil_mode)\n"
     ]
    },
    {
     "name": "stdout",
     "output_type": "stream",
     "text": [
      "progress bar show only progress for videos\n"
     ]
    },
    {
     "name": "stderr",
     "output_type": "stream",
     "text": [
      "processing TLC00000.AVI (file 1/10): 100%|████████████████████████████████████████████| 17/17.0 [00:01<00:00, 11.71it/s]\n",
      "processing TLC00001.AVI (file 2/10):  40%|███████████████▍                       | 8132/20480.0 [10:05<15:19, 13.43it/s]\n",
      "processing TLC00002.AVI (file 2/10):  60%|██████████████████████▉               | 12331/20480.0 [15:22<10:09, 13.36it/s]\n",
      "processing TLC00003.AVI (file 2/10): 100532it [1:37:52, 22.18it/s]                                                      "
     ]
    }
   ],
   "source": [
    "list_detection_frames = detect(opt)"
   ]
  },
  {
   "cell_type": "code",
   "execution_count": null,
   "metadata": {
    "ExecuteTime": {
     "end_time": "2021-09-06T08:02:09.053545Z",
     "start_time": "2021-09-06T08:02:09.042239Z"
    }
   },
   "outputs": [],
   "source": [
    "list_detection_frames"
   ]
  },
  {
   "cell_type": "code",
   "execution_count": null,
   "metadata": {},
   "outputs": [],
   "source": []
  }
 ],
 "metadata": {
  "hide_input": false,
  "interpreter": {
   "hash": "76f11793ee69eff6a19270df915286e0a1fb23805f6f069cadaef342f8c6f27e"
  },
  "kernelspec": {
   "display_name": "Python [conda env:test_pytorch19]",
   "language": "python",
   "name": "conda-env-test_pytorch19-py"
  },
  "language_info": {
   "codemirror_mode": {
    "name": "ipython",
    "version": 3
   },
   "file_extension": ".py",
   "mimetype": "text/x-python",
   "name": "python",
   "nbconvert_exporter": "python",
   "pygments_lexer": "ipython3",
   "version": "3.8.11"
  },
  "toc": {
   "base_numbering": 1,
   "nav_menu": {},
   "number_sections": true,
   "sideBar": true,
   "skip_h1_title": false,
   "title_cell": "Table of Contents",
   "title_sidebar": "Contents",
   "toc_cell": false,
   "toc_position": {},
   "toc_section_display": true,
   "toc_window_display": false
  },
  "varInspector": {
   "cols": {
    "lenName": 16,
    "lenType": 16,
    "lenVar": 40
   },
   "kernels_config": {
    "python": {
     "delete_cmd_postfix": "",
     "delete_cmd_prefix": "del ",
     "library": "var_list.py",
     "varRefreshCmd": "print(var_dic_list())"
    },
    "r": {
     "delete_cmd_postfix": ") ",
     "delete_cmd_prefix": "rm(",
     "library": "var_list.r",
     "varRefreshCmd": "cat(var_dic_list()) "
    }
   },
   "types_to_exclude": [
    "module",
    "function",
    "builtin_function_or_method",
    "instance",
    "_Feature"
   ],
   "window_display": false
  }
 },
 "nbformat": 4,
 "nbformat_minor": 2
}
