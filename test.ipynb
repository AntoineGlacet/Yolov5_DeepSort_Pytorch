{
 "cells": [
  {
   "cell_type": "code",
   "execution_count": 30,
   "source": [
    "from track import detect\n",
    "from argparse import Namespace"
   ],
   "outputs": [],
   "metadata": {}
  },
  {
   "cell_type": "code",
   "execution_count": 32,
   "source": [
    "kwargs={\n",
    "    'output': \"inference/output\",\n",
    "    'source' : r'/home/antoine/projects/Yolov5_DeepSort_Pytorch/data/interim/short_test_vid.mp4',\n",
    "    'yolo_weights' : r'/home/antoine/projects/Yolov5_DeepSort_Pytorch/yolov5/weights/crowdhuman_yolov5m.pt',\n",
    "    'deep_sort_weights': \"deep_sort_pytorch/deep_sort/deep/checkpoint/ckpt.t7\",\n",
    "    'conf-thres': 0.4,\n",
    "    'iou-thres' : \n",
    "    'show_vid' : \n",
    "    \n",
    "    'save_vid' : True,\n",
    "    'save_txt'\n",
    "    'img_size': 640\n",
    "    'evaluate'\n",
    "    'W_line1'\n",
    "    'W_line2'\n",
    "    'counting_direction'\n",
    "    'classes' : 0,\n",
    "}"
   ],
   "outputs": [],
   "metadata": {}
  },
  {
   "cell_type": "code",
   "execution_count": 34,
   "source": [
    "detect(args)"
   ],
   "outputs": [
    {
     "output_type": "error",
     "ename": "AttributeError",
     "evalue": "'Namespace' object has no attribute 'deep_sort_weights'",
     "traceback": [
      "\u001b[0;31m---------------------------------------------------------------------------\u001b[0m",
      "\u001b[0;31mAttributeError\u001b[0m                            Traceback (most recent call last)",
      "\u001b[0;32m/tmp/ipykernel_475/371342760.py\u001b[0m in \u001b[0;36m<module>\u001b[0;34m\u001b[0m\n\u001b[0;32m----> 1\u001b[0;31m \u001b[0mdetect\u001b[0m\u001b[0;34m(\u001b[0m\u001b[0margs\u001b[0m\u001b[0;34m)\u001b[0m\u001b[0;34m\u001b[0m\u001b[0;34m\u001b[0m\u001b[0m\n\u001b[0m",
      "\u001b[0;32m~/projects/Yolov5_DeepSort_Pytorch/track.py\u001b[0m in \u001b[0;36mdetect\u001b[0;34m(opt)\u001b[0m\n\u001b[1;32m     60\u001b[0m         \u001b[0mopt\u001b[0m\u001b[0;34m.\u001b[0m\u001b[0msource\u001b[0m\u001b[0;34m,\u001b[0m\u001b[0;34m\u001b[0m\u001b[0;34m\u001b[0m\u001b[0m\n\u001b[1;32m     61\u001b[0m         \u001b[0mopt\u001b[0m\u001b[0;34m.\u001b[0m\u001b[0myolo_weights\u001b[0m\u001b[0;34m,\u001b[0m\u001b[0;34m\u001b[0m\u001b[0;34m\u001b[0m\u001b[0m\n\u001b[0;32m---> 62\u001b[0;31m         \u001b[0mopt\u001b[0m\u001b[0;34m.\u001b[0m\u001b[0mdeep_sort_weights\u001b[0m\u001b[0;34m,\u001b[0m\u001b[0;34m\u001b[0m\u001b[0;34m\u001b[0m\u001b[0m\n\u001b[0m\u001b[1;32m     63\u001b[0m         \u001b[0mopt\u001b[0m\u001b[0;34m.\u001b[0m\u001b[0mshow_vid\u001b[0m\u001b[0;34m,\u001b[0m\u001b[0;34m\u001b[0m\u001b[0;34m\u001b[0m\u001b[0m\n\u001b[1;32m     64\u001b[0m         \u001b[0mopt\u001b[0m\u001b[0;34m.\u001b[0m\u001b[0msave_vid\u001b[0m\u001b[0;34m,\u001b[0m\u001b[0;34m\u001b[0m\u001b[0;34m\u001b[0m\u001b[0m\n",
      "\u001b[0;31mAttributeError\u001b[0m: 'Namespace' object has no attribute 'deep_sort_weights'"
     ]
    }
   ],
   "metadata": {}
  },
  {
   "cell_type": "code",
   "execution_count": 33,
   "source": [
    "args = Namespace(**kwargs)"
   ],
   "outputs": [],
   "metadata": {}
  }
 ],
 "metadata": {
  "orig_nbformat": 4,
  "language_info": {
   "name": "python",
   "version": "3.8.11",
   "mimetype": "text/x-python",
   "codemirror_mode": {
    "name": "ipython",
    "version": 3
   },
   "pygments_lexer": "ipython3",
   "nbconvert_exporter": "python",
   "file_extension": ".py"
  },
  "kernelspec": {
   "name": "python3",
   "display_name": "Python 3.8.11 64-bit ('test_pytorch19': conda)"
  },
  "interpreter": {
   "hash": "76f11793ee69eff6a19270df915286e0a1fb23805f6f069cadaef342f8c6f27e"
  }
 },
 "nbformat": 4,
 "nbformat_minor": 2
}